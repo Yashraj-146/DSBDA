{
 "cells": [
  {
   "cell_type": "code",
   "execution_count": 2,
   "id": "a6120756-9495-4fce-89bc-c8a7d6d0d23c",
   "metadata": {},
   "outputs": [],
   "source": [
    "import pandas as pd\n",
    "import numpy as np\n",
    "import matplotlib.pyplot as plt\n",
    "import seaborn as sns\n",
    "from sklearn.preprocessing import MinMaxScaler"
   ]
  },
  {
   "cell_type": "code",
   "execution_count": 3,
   "id": "bd9f6596-fc3c-4f7e-958f-3cacf4114add",
   "metadata": {},
   "outputs": [
    {
     "data": {
      "text/plain": [
       "<bound method NDFrame.head of      gender race/ethnicity parental level of education         lunch  \\\n",
       "0    female        group B           bachelor's degree      standard   \n",
       "1    female        group C                some college      standard   \n",
       "2    female        group B             master's degree      standard   \n",
       "3      male        group A          associate's degree  free/reduced   \n",
       "4      male        group C                some college      standard   \n",
       "..      ...            ...                         ...           ...   \n",
       "995  female        group E             master's degree      standard   \n",
       "996    male        group C                 high school  free/reduced   \n",
       "997  female        group C                 high school  free/reduced   \n",
       "998  female        group D                some college      standard   \n",
       "999  female        group D                some college  free/reduced   \n",
       "\n",
       "    test preparation course math score  reading score  writing score  \n",
       "0                      none         72           72.0           74.0  \n",
       "1                 completed         69           90.0           88.0  \n",
       "2                      none         90           95.0           93.0  \n",
       "3                      none         47           57.0           44.0  \n",
       "4                      none         76           78.0           75.0  \n",
       "..                      ...        ...            ...            ...  \n",
       "995               completed         88           99.0           95.0  \n",
       "996                    none         62           55.0           55.0  \n",
       "997               completed         59           71.0           65.0  \n",
       "998               completed         68           78.0           77.0  \n",
       "999                    none         77           86.0           86.0  \n",
       "\n",
       "[1000 rows x 8 columns]>"
      ]
     },
     "execution_count": 3,
     "metadata": {},
     "output_type": "execute_result"
    }
   ],
   "source": [
    "df = pd.read_csv(\"/Users/yashraj146/Documents/DSBDAL/Assign2/StudentsPerformance.csv\")\n",
    "df.head"
   ]
  },
  {
   "cell_type": "code",
   "execution_count": 4,
   "id": "63f50e58-ab52-4828-94f3-723b40ba60e5",
   "metadata": {},
   "outputs": [
    {
     "data": {
      "text/html": [
       "<div>\n",
       "<style scoped>\n",
       "    .dataframe tbody tr th:only-of-type {\n",
       "        vertical-align: middle;\n",
       "    }\n",
       "\n",
       "    .dataframe tbody tr th {\n",
       "        vertical-align: top;\n",
       "    }\n",
       "\n",
       "    .dataframe thead th {\n",
       "        text-align: right;\n",
       "    }\n",
       "</style>\n",
       "<table border=\"1\" class=\"dataframe\">\n",
       "  <thead>\n",
       "    <tr style=\"text-align: right;\">\n",
       "      <th></th>\n",
       "      <th>reading score</th>\n",
       "      <th>writing score</th>\n",
       "    </tr>\n",
       "  </thead>\n",
       "  <tbody>\n",
       "    <tr>\n",
       "      <th>count</th>\n",
       "      <td>994.000000</td>\n",
       "      <td>991.000000</td>\n",
       "    </tr>\n",
       "    <tr>\n",
       "      <th>mean</th>\n",
       "      <td>68.008048</td>\n",
       "      <td>69.487386</td>\n",
       "    </tr>\n",
       "    <tr>\n",
       "      <th>std</th>\n",
       "      <td>16.602270</td>\n",
       "      <td>29.563757</td>\n",
       "    </tr>\n",
       "    <tr>\n",
       "      <th>min</th>\n",
       "      <td>3.000000</td>\n",
       "      <td>10.000000</td>\n",
       "    </tr>\n",
       "    <tr>\n",
       "      <th>25%</th>\n",
       "      <td>58.000000</td>\n",
       "      <td>57.000000</td>\n",
       "    </tr>\n",
       "    <tr>\n",
       "      <th>50%</th>\n",
       "      <td>69.500000</td>\n",
       "      <td>69.000000</td>\n",
       "    </tr>\n",
       "    <tr>\n",
       "      <th>75%</th>\n",
       "      <td>79.000000</td>\n",
       "      <td>79.000000</td>\n",
       "    </tr>\n",
       "    <tr>\n",
       "      <th>max</th>\n",
       "      <td>100.000000</td>\n",
       "      <td>567.000000</td>\n",
       "    </tr>\n",
       "  </tbody>\n",
       "</table>\n",
       "</div>"
      ],
      "text/plain": [
       "       reading score  writing score\n",
       "count     994.000000     991.000000\n",
       "mean       68.008048      69.487386\n",
       "std        16.602270      29.563757\n",
       "min         3.000000      10.000000\n",
       "25%        58.000000      57.000000\n",
       "50%        69.500000      69.000000\n",
       "75%        79.000000      79.000000\n",
       "max       100.000000     567.000000"
      ]
     },
     "execution_count": 4,
     "metadata": {},
     "output_type": "execute_result"
    }
   ],
   "source": [
    "df.describe()"
   ]
  },
  {
   "cell_type": "code",
   "execution_count": 5,
   "id": "f7023311-ec15-4134-ac71-d2b14a69dc23",
   "metadata": {},
   "outputs": [
    {
     "data": {
      "text/plain": [
       "gender                         0\n",
       "race/ethnicity                 0\n",
       "parental level of education    0\n",
       "lunch                          0\n",
       "test preparation course        0\n",
       "math score                     8\n",
       "reading score                  6\n",
       "writing score                  9\n",
       "dtype: int64"
      ]
     },
     "execution_count": 5,
     "metadata": {},
     "output_type": "execute_result"
    }
   ],
   "source": [
    "df.isnull().sum()"
   ]
  },
  {
   "cell_type": "code",
   "execution_count": 6,
   "id": "081c1ec9-160e-4ab3-847a-28140a766ee9",
   "metadata": {},
   "outputs": [
    {
     "data": {
      "text/plain": [
       "gender                          object\n",
       "race/ethnicity                  object\n",
       "parental level of education     object\n",
       "lunch                           object\n",
       "test preparation course         object\n",
       "math score                      object\n",
       "reading score                  float64\n",
       "writing score                  float64\n",
       "dtype: object"
      ]
     },
     "execution_count": 6,
     "metadata": {},
     "output_type": "execute_result"
    }
   ],
   "source": [
    "df.dtypes"
   ]
  },
  {
   "cell_type": "code",
   "execution_count": 7,
   "id": "964fcc12-0894-48bf-92d4-348692203a67",
   "metadata": {},
   "outputs": [
    {
     "name": "stderr",
     "output_type": "stream",
     "text": [
      "/var/folders/p_/p55nsbbx3t74jm_36w0vdsg80000gn/T/ipykernel_6266/438128482.py:1: FutureWarning: A value is trying to be set on a copy of a DataFrame or Series through chained assignment using an inplace method.\n",
      "The behavior will change in pandas 3.0. This inplace method will never work because the intermediate object on which we are setting values always behaves as a copy.\n",
      "\n",
      "For example, when doing 'df[col].method(value, inplace=True)', try using 'df.method({col: value}, inplace=True)' or df[col] = df[col].method(value) instead, to perform the operation inplace on the original object.\n",
      "\n",
      "\n",
      "  df['math score'].fillna(-1, inplace = True)\n"
     ]
    }
   ],
   "source": [
    "df['math score'].fillna(-1, inplace = True)"
   ]
  },
  {
   "cell_type": "code",
   "execution_count": 8,
   "id": "9dc32ea5-8bc2-4f78-8d4a-3ea0f1c3036d",
   "metadata": {},
   "outputs": [
    {
     "data": {
      "text/plain": [
       "array(['72', '69', '90', '47', '76', '71', '88', '40', '64', '38', '58',\n",
       "       '65', '78', '50', -1, '74', '73', '67', '70', '62', '63', '56',\n",
       "       '81', '75', '57', '55', '53', '59', '66', '82', '77', '33', '52',\n",
       "       '0', '79', '39', '45', '60', '61', '41', '49', '44', '30', '80',\n",
       "       '42', '27', '43', '68', '85', '98', '87', '54', '51', '99', '84',\n",
       "       '91', '83', '89', '22', '100', '96', '94', '46', '97', '48', '35',\n",
       "       '34', '86', '92', '37', '28', '24', '113', '123', '?', '-89', '26',\n",
       "       '334', '95', '36', '29', '32', '93', '19', '23', '8'], dtype=object)"
      ]
     },
     "execution_count": 8,
     "metadata": {},
     "output_type": "execute_result"
    }
   ],
   "source": [
    "df['math score'].unique()"
   ]
  },
  {
   "cell_type": "code",
   "execution_count": 9,
   "id": "54d463dd-3b71-47c7-a997-4cd77e345729",
   "metadata": {},
   "outputs": [],
   "source": [
    "df['math score'].replace(to_replace = '?', value = -1, inplace = True)"
   ]
  },
  {
   "cell_type": "code",
   "execution_count": 11,
   "id": "c58cbe22-f474-4af9-9053-769fb80933a6",
   "metadata": {},
   "outputs": [],
   "source": [
    "df['math_score_float'] = df['math score'].astype(float).round(2)"
   ]
  },
  {
   "cell_type": "code",
   "execution_count": 12,
   "id": "09a4b397-e793-4e6d-a1c5-69bcf6599ab0",
   "metadata": {},
   "outputs": [
    {
     "data": {
      "text/plain": [
       "gender                          object\n",
       "race/ethnicity                  object\n",
       "parental level of education     object\n",
       "lunch                           object\n",
       "test preparation course         object\n",
       "math score                      object\n",
       "reading score                  float64\n",
       "writing score                  float64\n",
       "math_score_float               float64\n",
       "dtype: object"
      ]
     },
     "execution_count": 12,
     "metadata": {},
     "output_type": "execute_result"
    }
   ],
   "source": [
    "df.dtypes"
   ]
  },
  {
   "cell_type": "code",
   "execution_count": 13,
   "id": "61d5a5e0-90a1-4e8b-a176-0defe790cdc4",
   "metadata": {},
   "outputs": [
    {
     "data": {
      "text/plain": [
       "np.float64(63.429)"
      ]
     },
     "execution_count": 13,
     "metadata": {},
     "output_type": "execute_result"
    }
   ],
   "source": [
    "df['math_score_float'].mean()"
   ]
  },
  {
   "cell_type": "code",
   "execution_count": 14,
   "id": "2cbfcb3f-4261-4890-b20c-aa9395104154",
   "metadata": {},
   "outputs": [
    {
     "name": "stderr",
     "output_type": "stream",
     "text": [
      "/var/folders/p_/p55nsbbx3t74jm_36w0vdsg80000gn/T/ipykernel_6266/2632845647.py:1: FutureWarning: A value is trying to be set on a copy of a DataFrame or Series through chained assignment using an inplace method.\n",
      "The behavior will change in pandas 3.0. This inplace method will never work because the intermediate object on which we are setting values always behaves as a copy.\n",
      "\n",
      "For example, when doing 'df[col].method(value, inplace=True)', try using 'df.method({col: value}, inplace=True)' or df[col] = df[col].method(value) instead, to perform the operation inplace on the original object.\n",
      "\n",
      "\n",
      "  df['math_score_float'].replace(to_replace = -1, value = 0, inplace = True)\n"
     ]
    }
   ],
   "source": [
    "df['math_score_float'].replace(to_replace = -1, value = 0, inplace = True)"
   ]
  },
  {
   "cell_type": "code",
   "execution_count": 15,
   "id": "c3a4d3d5-8a58-436b-83a5-613091041401",
   "metadata": {},
   "outputs": [
    {
     "data": {
      "text/plain": [
       "np.float64(63.472)"
      ]
     },
     "execution_count": 15,
     "metadata": {},
     "output_type": "execute_result"
    }
   ],
   "source": [
    "df['math_score_float'].mean()"
   ]
  },
  {
   "cell_type": "code",
   "execution_count": 16,
   "id": "719f2e63-2c44-4121-8426-b95ec7d5f91e",
   "metadata": {},
   "outputs": [
    {
     "name": "stderr",
     "output_type": "stream",
     "text": [
      "/var/folders/p_/p55nsbbx3t74jm_36w0vdsg80000gn/T/ipykernel_6266/3457312852.py:1: FutureWarning: A value is trying to be set on a copy of a DataFrame or Series through chained assignment using an inplace method.\n",
      "The behavior will change in pandas 3.0. This inplace method will never work because the intermediate object on which we are setting values always behaves as a copy.\n",
      "\n",
      "For example, when doing 'df[col].method(value, inplace=True)', try using 'df.method({col: value}, inplace=True)' or df[col] = df[col].method(value) instead, to perform the operation inplace on the original object.\n",
      "\n",
      "\n",
      "  df['math_score_float'].replace(to_replace = 0, value = 63.47, inplace = True)\n"
     ]
    }
   ],
   "source": [
    "df['math_score_float'].replace(to_replace = 0, value = 63.47, inplace = True)"
   ]
  },
  {
   "cell_type": "code",
   "execution_count": 17,
   "id": "e707e61b-1736-46d5-baec-17d5f3be287e",
   "metadata": {},
   "outputs": [
    {
     "data": {
      "text/html": [
       "<div>\n",
       "<style scoped>\n",
       "    .dataframe tbody tr th:only-of-type {\n",
       "        vertical-align: middle;\n",
       "    }\n",
       "\n",
       "    .dataframe tbody tr th {\n",
       "        vertical-align: top;\n",
       "    }\n",
       "\n",
       "    .dataframe thead th {\n",
       "        text-align: right;\n",
       "    }\n",
       "</style>\n",
       "<table border=\"1\" class=\"dataframe\">\n",
       "  <thead>\n",
       "    <tr style=\"text-align: right;\">\n",
       "      <th></th>\n",
       "      <th>gender</th>\n",
       "      <th>race/ethnicity</th>\n",
       "      <th>parental level of education</th>\n",
       "      <th>lunch</th>\n",
       "      <th>test preparation course</th>\n",
       "      <th>math score</th>\n",
       "      <th>reading score</th>\n",
       "      <th>writing score</th>\n",
       "      <th>math_score_float</th>\n",
       "    </tr>\n",
       "  </thead>\n",
       "  <tbody>\n",
       "    <tr>\n",
       "      <th>0</th>\n",
       "      <td>female</td>\n",
       "      <td>group B</td>\n",
       "      <td>bachelor's degree</td>\n",
       "      <td>standard</td>\n",
       "      <td>none</td>\n",
       "      <td>72</td>\n",
       "      <td>72.0</td>\n",
       "      <td>74.0</td>\n",
       "      <td>72.0</td>\n",
       "    </tr>\n",
       "    <tr>\n",
       "      <th>1</th>\n",
       "      <td>female</td>\n",
       "      <td>group C</td>\n",
       "      <td>some college</td>\n",
       "      <td>standard</td>\n",
       "      <td>completed</td>\n",
       "      <td>69</td>\n",
       "      <td>90.0</td>\n",
       "      <td>88.0</td>\n",
       "      <td>69.0</td>\n",
       "    </tr>\n",
       "    <tr>\n",
       "      <th>2</th>\n",
       "      <td>female</td>\n",
       "      <td>group B</td>\n",
       "      <td>master's degree</td>\n",
       "      <td>standard</td>\n",
       "      <td>none</td>\n",
       "      <td>90</td>\n",
       "      <td>95.0</td>\n",
       "      <td>93.0</td>\n",
       "      <td>90.0</td>\n",
       "    </tr>\n",
       "    <tr>\n",
       "      <th>3</th>\n",
       "      <td>male</td>\n",
       "      <td>group A</td>\n",
       "      <td>associate's degree</td>\n",
       "      <td>free/reduced</td>\n",
       "      <td>none</td>\n",
       "      <td>47</td>\n",
       "      <td>57.0</td>\n",
       "      <td>44.0</td>\n",
       "      <td>47.0</td>\n",
       "    </tr>\n",
       "    <tr>\n",
       "      <th>4</th>\n",
       "      <td>male</td>\n",
       "      <td>group C</td>\n",
       "      <td>some college</td>\n",
       "      <td>standard</td>\n",
       "      <td>none</td>\n",
       "      <td>76</td>\n",
       "      <td>78.0</td>\n",
       "      <td>75.0</td>\n",
       "      <td>76.0</td>\n",
       "    </tr>\n",
       "  </tbody>\n",
       "</table>\n",
       "</div>"
      ],
      "text/plain": [
       "   gender race/ethnicity parental level of education         lunch  \\\n",
       "0  female        group B           bachelor's degree      standard   \n",
       "1  female        group C                some college      standard   \n",
       "2  female        group B             master's degree      standard   \n",
       "3    male        group A          associate's degree  free/reduced   \n",
       "4    male        group C                some college      standard   \n",
       "\n",
       "  test preparation course math score  reading score  writing score  \\\n",
       "0                    none         72           72.0           74.0   \n",
       "1               completed         69           90.0           88.0   \n",
       "2                    none         90           95.0           93.0   \n",
       "3                    none         47           57.0           44.0   \n",
       "4                    none         76           78.0           75.0   \n",
       "\n",
       "   math_score_float  \n",
       "0              72.0  \n",
       "1              69.0  \n",
       "2              90.0  \n",
       "3              47.0  \n",
       "4              76.0  "
      ]
     },
     "execution_count": 17,
     "metadata": {},
     "output_type": "execute_result"
    }
   ],
   "source": [
    "df.head()"
   ]
  },
  {
   "cell_type": "code",
   "execution_count": 18,
   "id": "fae52996-6608-4df7-ac4b-73c64a88135e",
   "metadata": {},
   "outputs": [
    {
     "data": {
      "text/plain": [
       "np.int64(6)"
      ]
     },
     "execution_count": 18,
     "metadata": {},
     "output_type": "execute_result"
    }
   ],
   "source": [
    "df['reading score'].isnull().sum()"
   ]
  },
  {
   "cell_type": "code",
   "execution_count": 19,
   "id": "9a973f56-c087-4903-ac8e-9ec2eb2f5187",
   "metadata": {},
   "outputs": [
    {
     "data": {
      "text/plain": [
       "np.float64(68.00804828973843)"
      ]
     },
     "execution_count": 19,
     "metadata": {},
     "output_type": "execute_result"
    }
   ],
   "source": [
    "df['reading score'].mean()"
   ]
  },
  {
   "cell_type": "code",
   "execution_count": 20,
   "id": "6641969a-a12e-4586-97e2-428f6b7c459e",
   "metadata": {},
   "outputs": [
    {
     "data": {
      "text/plain": [
       "array([ 72.,  90.,  95.,  57.,  78.,  83.,  43.,  64.,  60.,  54.,  52.,\n",
       "        81.,  53.,  75.,  89.,  32.,  22.,  12.,  13.,  14.,   9.,   8.,\n",
       "         7.,   6.,   4.,   3.,   5.,  34.,  11.,  nan,  56.,  61.,  73.,\n",
       "        58.,  65.,  71.,  74.,  84.,  55.,  69.,  44.,  41.,  85.,  59.,\n",
       "        17.,  39.,  80.,  37.,  63.,  51.,  49.,  26.,  68.,  45.,  47.,\n",
       "        70.,  86.,  79.,  66.,  67.,  91., 100.,  76.,  77.,  82.,  92.,\n",
       "        93.,  62.,  88.,  50.,  28.,  42.,  87.,  48.,  46.,  23.,  38.,\n",
       "        94.,  97.,  99.,  31.,  96.,  24.,  29.,  40.])"
      ]
     },
     "execution_count": 20,
     "metadata": {},
     "output_type": "execute_result"
    }
   ],
   "source": [
    "df['reading score'].unique()"
   ]
  },
  {
   "cell_type": "code",
   "execution_count": 21,
   "id": "d4c6b040-af03-4df8-a966-f89a886d511b",
   "metadata": {},
   "outputs": [
    {
     "name": "stderr",
     "output_type": "stream",
     "text": [
      "/var/folders/p_/p55nsbbx3t74jm_36w0vdsg80000gn/T/ipykernel_6266/1011858081.py:1: FutureWarning: A value is trying to be set on a copy of a DataFrame or Series through chained assignment using an inplace method.\n",
      "The behavior will change in pandas 3.0. This inplace method will never work because the intermediate object on which we are setting values always behaves as a copy.\n",
      "\n",
      "For example, when doing 'df[col].method(value, inplace=True)', try using 'df.method({col: value}, inplace=True)' or df[col] = df[col].method(value) instead, to perform the operation inplace on the original object.\n",
      "\n",
      "\n",
      "  df['reading score'].fillna(0, inplace = True)\n"
     ]
    }
   ],
   "source": [
    "df['reading score'].fillna(0, inplace = True)"
   ]
  },
  {
   "cell_type": "code",
   "execution_count": 22,
   "id": "ccc2a056-8d09-4bc7-978f-4d48a7f020e1",
   "metadata": {},
   "outputs": [
    {
     "data": {
      "text/plain": [
       "array([ 72.,  90.,  95.,  57.,  78.,  83.,  43.,  64.,  60.,  54.,  52.,\n",
       "        81.,  53.,  75.,  89.,  32.,  22.,  12.,  13.,  14.,   9.,   8.,\n",
       "         7.,   6.,   4.,   3.,   5.,  34.,  11.,   0.,  56.,  61.,  73.,\n",
       "        58.,  65.,  71.,  74.,  84.,  55.,  69.,  44.,  41.,  85.,  59.,\n",
       "        17.,  39.,  80.,  37.,  63.,  51.,  49.,  26.,  68.,  45.,  47.,\n",
       "        70.,  86.,  79.,  66.,  67.,  91., 100.,  76.,  77.,  82.,  92.,\n",
       "        93.,  62.,  88.,  50.,  28.,  42.,  87.,  48.,  46.,  23.,  38.,\n",
       "        94.,  97.,  99.,  31.,  96.,  24.,  29.,  40.])"
      ]
     },
     "execution_count": 22,
     "metadata": {},
     "output_type": "execute_result"
    }
   ],
   "source": [
    "df['reading score'].unique()"
   ]
  },
  {
   "cell_type": "code",
   "execution_count": 23,
   "id": "2fd2e08a-df42-4a35-8f8b-10458f02cfcc",
   "metadata": {},
   "outputs": [
    {
     "name": "stderr",
     "output_type": "stream",
     "text": [
      "/var/folders/p_/p55nsbbx3t74jm_36w0vdsg80000gn/T/ipykernel_6266/732832638.py:1: FutureWarning: A value is trying to be set on a copy of a DataFrame or Series through chained assignment using an inplace method.\n",
      "The behavior will change in pandas 3.0. This inplace method will never work because the intermediate object on which we are setting values always behaves as a copy.\n",
      "\n",
      "For example, when doing 'df[col].method(value, inplace=True)', try using 'df.method({col: value}, inplace=True)' or df[col] = df[col].method(value) instead, to perform the operation inplace on the original object.\n",
      "\n",
      "\n",
      "  df['reading score'].replace(to_replace = 0, value = 69.48, inplace = True)\n"
     ]
    }
   ],
   "source": [
    "df['reading score'].replace(to_replace = 0, value = 69.48, inplace = True)"
   ]
  },
  {
   "cell_type": "code",
   "execution_count": 26,
   "id": "02465afe-4aaf-4f71-99ed-cdba3463c368",
   "metadata": {},
   "outputs": [
    {
     "data": {
      "text/plain": [
       "gender                         0\n",
       "race/ethnicity                 0\n",
       "parental level of education    0\n",
       "lunch                          0\n",
       "test preparation course        0\n",
       "math score                     0\n",
       "reading score                  0\n",
       "writing score                  9\n",
       "math_score_float               0\n",
       "dtype: int64"
      ]
     },
     "execution_count": 26,
     "metadata": {},
     "output_type": "execute_result"
    }
   ],
   "source": [
    "df.isnull().sum()"
   ]
  },
  {
   "cell_type": "code",
   "execution_count": 27,
   "id": "63a9be76-6db4-42a0-822c-7358dc99f008",
   "metadata": {},
   "outputs": [
    {
     "data": {
      "text/plain": [
       "np.int64(9)"
      ]
     },
     "execution_count": 27,
     "metadata": {},
     "output_type": "execute_result"
    }
   ],
   "source": [
    "df['writing score'].isnull().sum()"
   ]
  },
  {
   "cell_type": "code",
   "execution_count": 28,
   "id": "cceea282-cd71-4a1c-aa83-81814b0595b7",
   "metadata": {},
   "outputs": [
    {
     "name": "stderr",
     "output_type": "stream",
     "text": [
      "/var/folders/p_/p55nsbbx3t74jm_36w0vdsg80000gn/T/ipykernel_6266/1258397930.py:1: FutureWarning: A value is trying to be set on a copy of a DataFrame or Series through chained assignment using an inplace method.\n",
      "The behavior will change in pandas 3.0. This inplace method will never work because the intermediate object on which we are setting values always behaves as a copy.\n",
      "\n",
      "For example, when doing 'df[col].method(value, inplace=True)', try using 'df.method({col: value}, inplace=True)' or df[col] = df[col].method(value) instead, to perform the operation inplace on the original object.\n",
      "\n",
      "\n",
      "  df['writing score'].fillna(0, inplace = True)\n"
     ]
    }
   ],
   "source": [
    "df['writing score'].fillna(0, inplace = True)"
   ]
  },
  {
   "cell_type": "code",
   "execution_count": 29,
   "id": "3776f4b4-c980-4317-ad7a-c9d19ddd5835",
   "metadata": {},
   "outputs": [
    {
     "data": {
      "text/plain": [
       "array([ 74.,  88.,  93.,  44.,  75.,  78.,  92.,  39.,  67.,  50.,  52.,\n",
       "        43.,  73.,  70.,  58.,  86.,  28.,  46.,  61.,  63.,  53.,   0.,\n",
       "        80.,  72.,  55.,  65.,  38.,  82.,  79.,  83.,  59.,  57.,  54.,\n",
       "        68.,  66.,  62.,  76.,  48.,  42.,  87.,  49.,  10.,  34.,  71.,\n",
       "        37.,  56.,  41.,  22.,  81.,  45.,  36.,  89.,  47.,  90., 100.,\n",
       "        64.,  98.,  51.,  40.,  84.,  69.,  33.,  60.,  85.,  91.,  77.,\n",
       "        27.,  94.,  95.,  19.,  35.,  32.,  96.,  97., 112., 114., 455.,\n",
       "       567.,  99.,  15.,  30., 554.,  23.])"
      ]
     },
     "execution_count": 29,
     "metadata": {},
     "output_type": "execute_result"
    }
   ],
   "source": [
    "df['writing score'].unique()"
   ]
  },
  {
   "cell_type": "code",
   "execution_count": 30,
   "id": "664f2f92-cdba-4c83-8019-dbc8fb9a521c",
   "metadata": {},
   "outputs": [
    {
     "data": {
      "text/plain": [
       "np.float64(68.862)"
      ]
     },
     "execution_count": 30,
     "metadata": {},
     "output_type": "execute_result"
    }
   ],
   "source": [
    "df['writing score'].mean()"
   ]
  },
  {
   "cell_type": "code",
   "execution_count": 31,
   "id": "3e066f78-a55e-4d90-8add-d9f3e5c1f4ca",
   "metadata": {},
   "outputs": [
    {
     "name": "stderr",
     "output_type": "stream",
     "text": [
      "/var/folders/p_/p55nsbbx3t74jm_36w0vdsg80000gn/T/ipykernel_6266/3169161620.py:1: FutureWarning: A value is trying to be set on a copy of a DataFrame or Series through chained assignment using an inplace method.\n",
      "The behavior will change in pandas 3.0. This inplace method will never work because the intermediate object on which we are setting values always behaves as a copy.\n",
      "\n",
      "For example, when doing 'df[col].method(value, inplace=True)', try using 'df.method({col: value}, inplace=True)' or df[col] = df[col].method(value) instead, to perform the operation inplace on the original object.\n",
      "\n",
      "\n",
      "  df['writing score'].replace(to_replace = 0, value = 68.86, inplace = True)\n"
     ]
    }
   ],
   "source": [
    "df['writing score'].replace(to_replace = 0, value = 68.86, inplace = True)"
   ]
  },
  {
   "cell_type": "code",
   "execution_count": 33,
   "id": "9606be37-6d9b-4969-bcf8-d47bed52b28b",
   "metadata": {},
   "outputs": [
    {
     "data": {
      "text/plain": [
       "gender                         0\n",
       "race/ethnicity                 0\n",
       "parental level of education    0\n",
       "lunch                          0\n",
       "test preparation course        0\n",
       "math score                     0\n",
       "reading score                  0\n",
       "writing score                  0\n",
       "math_score_float               0\n",
       "dtype: int64"
      ]
     },
     "execution_count": 33,
     "metadata": {},
     "output_type": "execute_result"
    }
   ],
   "source": [
    "df.isnull().sum()"
   ]
  },
  {
   "cell_type": "markdown",
   "id": "ddc27454-51d1-4090-8d39-8a21b5a36c91",
   "metadata": {},
   "source": [
    "<h1>Outliers</h1>"
   ]
  },
  {
   "cell_type": "code",
   "execution_count": 37,
   "id": "6abdb0af-eeb0-4f19-8e74-420c87130dd5",
   "metadata": {},
   "outputs": [
    {
     "data": {
      "image/png": "[encoded data removed]",
      "text/plain": [
       "<Figure size 600x800 with 1 Axes>"
      ]
     },
     "metadata": {},
     "output_type": "display_data"
    },
    {
     "data": {
      "image/png": "[encoded data removed]",
      "text/plain": [
       "<Figure size 600x800 with 1 Axes>"
      ]
     },
     "metadata": {},
     "output_type": "display_data"
    }
   ],
   "source": [
    "plt.figure(figsize = (6,8))\n",
    "sns.boxplot(y = df['math_score_float'])\n",
    "plt.title('Boxplot of math')\n",
    "plt.show()\n",
    "\n",
    "Q1 = df['math_score_float'].quantile(0.25)\n",
    "Q3 = df['math_score_float'].quantile(0.75)\n",
    "IQR = Q3-Q1\n",
    "\n",
    "lower_limit = Q1-1.5*IQR\n",
    "upper_limit = Q3+1.5*IQR\n",
    "\n",
    "df = df[(df['math_score_float'] >= lower_limit) & (df['math_score_float'] <= upper_limit)]\n",
    "\n",
    "plt.figure(figsize = (6,8))\n",
    "sns.boxplot(y = df['math_score_float'])\n",
    "plt.title('Boxplot without outliers')\n",
    "plt.show()"
   ]
  },
  {
   "cell_type": "markdown",
   "id": "32ddb7b7-e846-4262-b740-ad8390e48a30",
   "metadata": {},
   "source": [
    "<h1>Data Transformation</h1>"
   ]
  },
  {
   "cell_type": "code",
   "execution_count": 41,
   "id": "dcbd06e4-7fc0-49d4-8bfe-aaadaf2754c9",
   "metadata": {},
   "outputs": [
    {
     "name": "stderr",
     "output_type": "stream",
     "text": [
      "/var/folders/p_/p55nsbbx3t74jm_36w0vdsg80000gn/T/ipykernel_6266/748090724.py:8: UserWarning: \n",
      "\n",
      "`distplot` is a deprecated function and will be removed in seaborn v0.14.0.\n",
      "\n",
      "Please adapt your code to use either `displot` (a figure-level function with\n",
      "similar flexibility) or `histplot` (an axes-level function for histograms).\n",
      "\n",
      "For a guide to updating your code to use the new functions, please see\n",
      "https://gist.github.com/mwaskom/de44147ed2974457ad6372750bbe5751\n",
      "\n",
      "  sns.distplot(df['writing score'], ax = axes[0])\n",
      "/var/folders/p_/p55nsbbx3t74jm_36w0vdsg80000gn/T/ipykernel_6266/748090724.py:9: UserWarning: \n",
      "\n",
      "`distplot` is a deprecated function and will be removed in seaborn v0.14.0.\n",
      "\n",
      "Please adapt your code to use either `displot` (a figure-level function with\n",
      "similar flexibility) or `histplot` (an axes-level function for histograms).\n",
      "\n",
      "For a guide to updating your code to use the new functions, please see\n",
      "https://gist.github.com/mwaskom/de44147ed2974457ad6372750bbe5751\n",
      "\n",
      "  sns.distplot(df['reading score'], ax = axes[1])\n"
     ]
    },
    {
     "data": {
      "text/plain": [
       "<Axes: xlabel='reading score', ylabel='Density'>"
      ]
     },
     "execution_count": 41,
     "metadata": {},
     "output_type": "execute_result"
    },
    {
     "data": {
      "image/png": "[encoded data removed]",
      "text/plain": [
       "<Figure size 1500x500 with 2 Axes>"
      ]
     },
     "metadata": {},
     "output_type": "display_data"
    }
   ],
   "source": [
    "#Z-Score Transformation\n",
    "avg_write = df['writing score'].mean()\n",
    "std_write = df['writing score'].std()\n",
    "\n",
    "df['z_score_transform'] = (df['writing score'] - avg_write)/std_write\n",
    "\n",
    "fig, axes = plt.subplots(1, 2, figsize = (15,5))\n",
    "sns.distplot(df['writing score'], ax = axes[0])\n",
    "sns.distplot(df['reading score'], ax = axes[1])\n",
    "# sns.distplot(df['math_score_float'], ax = axes[2])"
   ]
  },
  {
   "cell_type": "code",
   "execution_count": null,
   "id": "9d459fad-5ef5-424e-aa07-731232e51ffa",
   "metadata": {},
   "outputs": [],
   "source": []
  }
 ],
 "metadata": {
  "kernelspec": {
   "display_name": "Python 3 (ipykernel)",
   "language": "python",
   "name": "python3"
  },
  "language_info": {
   "codemirror_mode": {
    "name": "ipython",
    "version": 3
   },
   "file_extension": ".py",
   "mimetype": "text/x-python",
   "name": "python",
   "nbconvert_exporter": "python",
   "pygments_lexer": "ipython3",
   "version": "3.9.6"
  }
 },
 "nbformat": 4,
 "nbformat_minor": 5
}
