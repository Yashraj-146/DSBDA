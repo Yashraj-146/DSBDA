{
 "cells": [
  {
   "cell_type": "code",
   "execution_count": null,
   "id": "260da47e-ab57-4fe4-b2ca-7aeeb7044f45",
   "metadata": {},
   "outputs": [],
   "source": [
    "import math ,re ,nltk\n",
    "nltk.download('punkt_tab')\n",
    "nltk.download('wordnet')\n",
    "nltk.download('averaged_perceptron_tagger_eng')"
   ]
  },
  {
   "cell_type": "code",
   "execution_count": null,
   "id": "2b500cf5-66b2-456d-aeaf-b06c844f4ea7",
   "metadata": {},
   "outputs": [],
   "source": [
    "with open('doc1.txt', 'r') as file:\n",
    "    doc1 = file.read()\n",
    "\n",
    "with open('doc2.txt', 'r') as file:\n",
    "    doc2 = file.read()\n",
    "\n",
    "doc1"
   ]
  },
  {
   "cell_type": "code",
   "execution_count": null,
   "id": "9ab48dd2-b6c5-49eb-8d3b-da427f6ded3a",
   "metadata": {},
   "outputs": [],
   "source": [
    "doc2"
   ]
  },
  {
   "cell_type": "code",
   "execution_count": null,
   "id": "4123f1d2-24f7-458c-9138-96c8bd64cc47",
   "metadata": {},
   "outputs": [],
   "source": [
    "word_tokens = nltk.word_tokenize(doc1)\n",
    "print(word_tokens)"
   ]
  },
  {
   "cell_type": "code",
   "execution_count": null,
   "id": "1fae9820-b5ee-479e-9304-32caaad19448",
   "metadata": {},
   "outputs": [],
   "source": [
    "nltk.download('stopwords')"
   ]
  },
  {
   "cell_type": "code",
   "execution_count": null,
   "id": "9cebe508-bfbe-466a-86c0-caf9f37cf808",
   "metadata": {},
   "outputs": [],
   "source": [
    "stop_words = set(nltk.corpus.stopwords.words(\"english\"))\n",
    "print(stop_words)"
   ]
  },
  {
   "cell_type": "code",
   "execution_count": null,
   "id": "9fdf13fb-0f3d-4c92-a1e3-e83a9fc2dd57",
   "metadata": {},
   "outputs": [],
   "source": [
    "word_tokens = [word for word in word_tokens if word not in stop_words]\n",
    "print(word_tokens)"
   ]
  },
  {
   "cell_type": "code",
   "execution_count": null,
   "id": "7b9b02c7-80d1-4ec5-953a-91d3cec53fd7",
   "metadata": {},
   "outputs": [],
   "source": [
    "tagged = nltk.pos_tag(word_tokens)\n",
    "print(tagged)"
   ]
  },
  {
   "cell_type": "code",
   "execution_count": null,
   "id": "1992c85f-c740-4dcb-a780-f71aa95d915b",
   "metadata": {},
   "outputs": [],
   "source": [
    "#Stemming and Lemmatization\n",
    "\n",
    "from nltk.corpus import stopwords\n",
    "from nltk.stem import PorterStemmer, WordNetLemmatizer\n",
    "\n",
    "lemmatizer = WordNetLemmatizer()\n",
    "stemmer = PorterStemmer()"
   ]
  },
  {
   "cell_type": "code",
   "execution_count": null,
   "id": "5ea0c661-c1b8-44bc-8fea-61ea48734e85",
   "metadata": {},
   "outputs": [],
   "source": [
    "def baseformconversion(tokens):\n",
    "    lemmatized_token = [lemmatizer.lemmatize(word) for word in tokens]\n",
    "    stemmed_token = [stemmer.stem(word) for word in tokens]\n",
    "    return lemmatized_token,stemmed_token\n",
    "\n",
    "lemtoken,stemtoken = baseformconversion(word_tokens)\n",
    "print(\"Lemmatized tokens: \\n\")\n",
    "print(lemtoken)\n",
    "print(\"Stemmed tokens: \\n\")\n",
    "print(stemtoken)"
   ]
  },
  {
   "cell_type": "code",
   "execution_count": null,
   "id": "b8396fb4-b3f8-4b52-8c20-dc8ccac63b24",
   "metadata": {},
   "outputs": [],
   "source": [
    "#TF-IDF\n",
    "\n",
    "def cal_tf(doc):\n",
    "    word_tokens = nltk.word_tokenize(doc)\n",
    "    tf_dict = dict()\n",
    "    for word in word_tokens:\n",
    "        tf_dict[word] = word_tokens.count(word)\n",
    "    tf = dict()\n",
    "    for word,cnt in tf_dict.items():\n",
    "        tf[word] = cnt/len(tf_dict)\n",
    "    return tf"
   ]
  },
  {
   "cell_type": "code",
   "execution_count": null,
   "id": "a2e236e9-1488-442a-be35-4a4c0bd85286",
   "metadata": {},
   "outputs": [],
   "source": [
    "tf_doc1 = cal_tf(doc1)\n",
    "tf_doc2 = cal_tf(doc2)"
   ]
  },
  {
   "cell_type": "code",
   "execution_count": null,
   "id": "165939d1-b7be-4f93-929c-e55595f9eb0e",
   "metadata": {},
   "outputs": [],
   "source": [
    "print(tf_doc1)"
   ]
  },
  {
   "cell_type": "code",
   "execution_count": null,
   "id": "ff5fc4ff-2ed1-4e12-8648-4a9130547e98",
   "metadata": {},
   "outputs": [],
   "source": [
    "print(tf_doc2)"
   ]
  },
  {
   "cell_type": "code",
   "execution_count": null,
   "id": "20cd4cec-2363-43c5-afae-a844817ba66e",
   "metadata": {},
   "outputs": [],
   "source": [
    "doc1_token = nltk.word_tokenize(doc1)\n",
    "doc2_token = nltk.word_tokenize(doc2)\n",
    "\n",
    "def cal_idf():\n",
    "    N = 2\n",
    "    all_tokens = doc1_token + doc2_token\n",
    "    idf = dict()\n",
    "    for token in all_tokens:\n",
    "        f = 0\n",
    "        if token in doc1_token:\n",
    "            f = f + 1\n",
    "        if token in doc2_token:\n",
    "            f = f + 1\n",
    "        idf[token] = math.log(N/f)\n",
    "    return idf\n",
    "\n",
    "idf = cal_idf()\n",
    "print(idf)"
   ]
  },
  {
   "cell_type": "code",
   "execution_count": null,
   "id": "b659227e-a3a1-49dc-b23d-20672c233665",
   "metadata": {},
   "outputs": [],
   "source": [
    "doc1_tfidf = []\n",
    "doc2_tfidf = []\n",
    "\n",
    "def cal_tfidf_doc1():\n",
    "    for token in doc1_token:\n",
    "        doc1_tfidf.append(tf_doc1[token] * idf[token])\n",
    "    return doc1_tfidf\n",
    "\n",
    "def cal_tfidf_doc2():\n",
    "    for token in doc2_token:\n",
    "        doc2_tfidf.append(tf_doc2[token] * idf[token])\n",
    "    return doc2_tfidf"
   ]
  },
  {
   "cell_type": "code",
   "execution_count": null,
   "id": "4b41e753-c3de-4269-896f-745b0accc2c1",
   "metadata": {},
   "outputs": [],
   "source": [
    "cal_tfidf_doc1()\n",
    "cal_tfidf_doc2()"
   ]
  }
 ],
 "metadata": {
  "kernelspec": {
   "display_name": "Python 3 (ipykernel)",
   "language": "python",
   "name": "python3"
  },
  "language_info": {
   "codemirror_mode": {
    "name": "ipython",
    "version": 3
   },
   "file_extension": ".py",
   "mimetype": "text/x-python",
   "name": "python",
   "nbconvert_exporter": "python",
   "pygments_lexer": "ipython3",
   "version": "3.9.6"
  }
 },
 "nbformat": 4,
 "nbformat_minor": 5
}
