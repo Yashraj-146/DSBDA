{
 "cells": [
  {
   "cell_type": "code",
   "execution_count": null,
   "id": "2f8a3c23-09f8-464e-8906-58f82c4d3d6b",
   "metadata": {},
   "outputs": [],
   "source": [
    "import math, re, nltk\n",
    "nltk.download('all')"
   ]
  },
  {
   "cell_type": "code",
   "execution_count": null,
   "id": "d9a2092d-cc93-4bbd-becd-09cf1b3b7474",
   "metadata": {},
   "outputs": [],
   "source": [
    "with open('/Users/yashraj146/Downloads/DSBL_final/doc_01.txt', 'r') as file:\n",
    "    doc1 = file.read()"
   ]
  },
  {
   "cell_type": "code",
   "execution_count": null,
   "id": "5fb8def3-440a-4209-a364-8c58cb786caa",
   "metadata": {},
   "outputs": [],
   "source": [
    "from nltk.tokenize import word_tokenize"
   ]
  },
  {
   "cell_type": "code",
   "execution_count": null,
   "id": "1f75c7a3-0296-4f7e-a3dd-13d4254bde36",
   "metadata": {},
   "outputs": [],
   "source": [
    "word_tokens = word_tokenize(doc1)\n",
    "print(word_tokens)"
   ]
  },
  {
   "cell_type": "markdown",
   "id": "bf23a0d7-7bff-4242-b8e3-495b8b236eb7",
   "metadata": {},
   "source": [
    "<h2>Stop Words</h2>"
   ]
  },
  {
   "cell_type": "code",
   "execution_count": null,
   "id": "21606098-3d5d-4107-b054-6cd4beac73ce",
   "metadata": {},
   "outputs": [],
   "source": [
    "from nltk.corpus import stopwords\n",
    "stop_words = set(stopwords.words(\"english\"))\n",
    "print(stop_words)"
   ]
  },
  {
   "cell_type": "markdown",
   "id": "e5b5019c-f02d-4e8d-b7b6-6b4615404784",
   "metadata": {},
   "source": [
    "<h2>Tokenization</h2>"
   ]
  },
  {
   "cell_type": "code",
   "execution_count": null,
   "id": "477f40d0-3712-4ede-984f-f27d80aabf27",
   "metadata": {},
   "outputs": [],
   "source": [
    "word_tokens = [word for word in word_tokens if word not in stop_words]\n",
    "print(word_tokens)"
   ]
  },
  {
   "cell_type": "code",
   "execution_count": null,
   "id": "d903b8c9-e8fe-4327-aed7-e79d2b670f4f",
   "metadata": {},
   "outputs": [],
   "source": [
    "tagged = nltk.pos_tag(word_tokens)\n",
    "print(tagged)"
   ]
  },
  {
   "cell_type": "code",
   "execution_count": null,
   "id": "6213f67e-fd96-4b3c-8f77-236a1bf6dafc",
   "metadata": {},
   "outputs": [],
   "source": [
    "from nltk.stem import PorterStemmer, WordNetLemmatizer"
   ]
  },
  {
   "cell_type": "code",
   "execution_count": null,
   "id": "9705e8e4-8bfb-4f23-80e1-338988b137af",
   "metadata": {},
   "outputs": [],
   "source": [
    "lemmatizer = WordNetLemmatizer()\n",
    "lemmatized_tokens = [lemmatizer.lemmatize(token) for token in word_tokens]\n",
    "print(lemmatized_tokens)"
   ]
  },
  {
   "cell_type": "code",
   "execution_count": null,
   "id": "536463aa-6986-4eb3-8f22-a0027e2337f5",
   "metadata": {},
   "outputs": [],
   "source": [
    "stemmer = PorterStemmer()\n",
    "stemmed_tokens = [stemmer.stem(token) for token in word_tokens]\n",
    "print(stemmed_tokens)"
   ]
  },
  {
   "cell_type": "markdown",
   "id": "a9993550-6678-47e5-811d-742307254595",
   "metadata": {},
   "source": [
    "<h1>TF-IDF</h1>"
   ]
  },
  {
   "cell_type": "code",
   "execution_count": null,
   "id": "21bf31fc-b47d-4f8b-a1f9-3cfb215d460a",
   "metadata": {},
   "outputs": [],
   "source": [
    "from sklearn.feature_extraction.text import TfidfVectorizer"
   ]
  },
  {
   "cell_type": "code",
   "execution_count": null,
   "id": "50a1b026-296e-4df7-8bac-197e7f9dc632",
   "metadata": {},
   "outputs": [],
   "source": [
    "vectorizer = TfidfVectorizer(stop_words = \"english\")\n",
    "document = \" \".join(word_tokens)\n",
    "tfidf_matrix = vectorizer.fit_transform([document])\n",
    "\n",
    "terms = vectorizer.get_feature_names_out()\n",
    "print(terms)"
   ]
  },
  {
   "cell_type": "code",
   "execution_count": null,
   "id": "eef5532a-19d8-4787-a12e-223b544a9b92",
   "metadata": {},
   "outputs": [],
   "source": [
    "tfidf_array = tfidf_matrix.toarray()"
   ]
  },
  {
   "cell_type": "code",
   "execution_count": null,
   "id": "186d19eb-a368-467a-9b40-47ba6f8366f0",
   "metadata": {},
   "outputs": [],
   "source": [
    "print(\"TF-IDF Terms\")\n",
    "for term_idx, value in enumerate(tfidf_array[0]):\n",
    "    print(f\"{terms[term_idx]} : {value:.4f}\")"
   ]
  },
  {
   "cell_type": "code",
   "execution_count": null,
   "id": "682d1901-095d-498e-b19d-a764b7ee81ad",
   "metadata": {},
   "outputs": [],
   "source": []
  }
 ],
 "metadata": {
  "kernelspec": {
   "display_name": "Python 3 (ipykernel)",
   "language": "python",
   "name": "python3"
  },
  "language_info": {
   "codemirror_mode": {
    "name": "ipython",
    "version": 3
   },
   "file_extension": ".py",
   "mimetype": "text/x-python",
   "name": "python",
   "nbconvert_exporter": "python",
   "pygments_lexer": "ipython3",
   "version": "3.9.6"
  }
 },
 "nbformat": 4,
 "nbformat_minor": 5
}
