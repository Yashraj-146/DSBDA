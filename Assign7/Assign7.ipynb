{
 "cells": [
  {
   "cell_type": "code",
   "execution_count": null,
   "id": "2f8a3c23-09f8-464e-8906-58f82c4d3d6b",
   "metadata": {},
   "outputs": [],
   "source": [
    "import math, re, nltk\n",
    "nltk.download('all')"
   ]
  },
  {
   "cell_type": "code",
   "execution_count": 2,
   "id": "d9a2092d-cc93-4bbd-becd-09cf1b3b7474",
   "metadata": {},
   "outputs": [],
   "source": [
    "with open('/Users/yashraj146/Downloads/DSBL_final/doc_01.txt', 'r') as file:\n",
    "    doc1 = file.read()"
   ]
  },
  {
   "cell_type": "code",
   "execution_count": 3,
   "id": "5fb8def3-440a-4209-a364-8c58cb786caa",
   "metadata": {},
   "outputs": [],
   "source": [
    "from nltk.tokenize import word_tokenize"
   ]
  },
  {
   "cell_type": "code",
   "execution_count": 4,
   "id": "1f75c7a3-0296-4f7e-a3dd-13d4254bde36",
   "metadata": {},
   "outputs": [
    {
     "name": "stdout",
     "output_type": "stream",
     "text": [
      "['Millions', 'of', 'people', 'in', 'India', 'took', 'part', 'in', 'an', 'annual', 'tree', 'planting', 'drive', 'Sunday', '.', 'More', 'than', '250', 'million', 'saplings', 'were', 'planted', 'in', 'a', 'single', 'day', 'across', 'the', 'country', \"'s\", 'most-populous', 'state', '.', 'The', 'campaign', 'was', 'led', 'by', 'Uttar', 'Pradesh', 'state', 'government', 'officials', ',', 'lawmakers', ',', 'and', 'activists', ',', 'in', 'a', 'bid', 'to', 'reduce', 'carbon', 'emissions', 'and', 'combat', 'climate', 'change', '.', 'Where', 'were', 'the', 'trees', 'planted', '?', 'The', 'saplings', 'were', 'planted', 'by', 'volunteers', 'in', 'forests', ',', 'farms', ',', 'schools', ',', 'and', 'along', 'riverbanks', 'and', 'highways', '.', '``', 'We', 'are', 'committed', 'to', 'increasing', 'the', 'forest', 'cover', 'of', 'Uttar', 'Pradesh', 'to', 'over', '15', '%', 'of', 'the', 'total', 'land', 'area', 'in', 'the', 'next', 'five', 'years', ',', \"''\", 'said', 'state', 'forest', 'official', 'Manoj', 'Singh', '.', 'According', 'to', 'another', 'government', 'official', ',', 'the', 'forest', 'cover', 'of', 'the', 'state', 'has', 'increased', 'over', 'the', 'last', 'few', 'years', '.', '``', 'There', 'has', 'been', 'an', 'increase', 'of', '127', 'sqare', 'kilometers', '[', '79', 'sqare', 'miles', ']', 'in', 'the', 'forest', 'cover', 'in', 'Uttar', 'Pradesh', 'as', 'compared', 'to', '2017', ',', \"''\", 'a', 'state', 'government', 'spokesperson', 'was', 'quoted', 'as', 'saying', 'in', 'The', 'Indian', 'Express', 'newspaper', '.', '``', 'There', 'has', 'also', 'been', 'an', 'increase', 'in', 'trees', 'and', 'plants', '.', 'The', 'tree', 'cover', 'has', 'increased', 'to', '3.05', '%', ',', 'as', 'compared', 'to', 'the', 'national', 'average', 'of', '2.89', '%', ',', \"''\", 'the', 'official', 'said', ',', 'citing', 'the', '2019', 'Forest', 'Survey', 'of', 'India', 'report', '.', 'How', 'many', 'saplings', 'survive', '?', 'Uttar', 'Pradesh', 'State', 'Forest', 'Minister', 'Dara', 'Singh', 'said', 'the', 'long-term', 'survival', 'of', 'the', 'saplings', 'remains', 'a', 'concern', ',', 'adding', 'that', 'usually', 'only', '60', '%', 'of', 'the', 'saplings', 'survive', '.', 'The', 'rest', 'succumb', 'to', 'disease', 'or', 'lack', 'of', 'water', '.', 'However', ',', 'he', 'said', 'that', 'about', '80', '%', 'of', 'the', 'saplings', 'planted', 'in', 'the', 'last', 'four', 'annual', 'drives', 'have', 'survived', '.', '``', 'All', 'the', 'regions', 'where', 'plantation', 'is', 'being', 'carried', 'out', 'have', 'been', 'geo-tagged', 'so', 'that', 'we', 'can', 'ascertain', 'what', 'exactly', 'happened', ',', \"''\", 'Chauhan', 'told', 'The', 'Pioneer', 'newspaper', '.', '``', 'These', 'saplings', 'carry', 'QR', 'codes', 'so', 'that', 'officials', 'can', 'maintain', 'a', 'record', 'and', 'verify', 'whether', 'the', 'saplings', 'survived', 'or', 'not', '.', 'Besides', ',', 'teams', 'have', 'been', 'formed', 'to', 'monitor', 'progress', 'of', 'the', 'plantation', 'drive', ',', \"''\", 'he', 'said', '.', 'What', 'is', 'the', 'extent', 'of', 'India', \"'s\", 'tree', 'planting', 'project', '?', 'India', 'has', 'vowed', 'to', 'have', 'a', 'third', 'of', 'its', 'total', 'land', 'area', ',', 'or', '95', 'million', 'hectares', ',', 'under', 'forest', 'and', 'tree', 'cover', 'by', '2030', '.', 'The', 'government', 'has', 'allocated', '$', '6.2', 'billion', '(', '€5.2', 'billion', ')', 'for', 'the', 'tree-planting', 'across', 'the', 'country', '.', 'However', ',', 'industrial', 'development', 'and', 'a', 'rapidly', 'growing', 'population', 'has', 'put', 'further', 'stress', 'on', 'the', 'land', '.']\n"
     ]
    }
   ],
   "source": [
    "word_tokens = word_tokenize(doc1)\n",
    "print(word_tokens)"
   ]
  },
  {
   "cell_type": "markdown",
   "id": "bf23a0d7-7bff-4242-b8e3-495b8b236eb7",
   "metadata": {},
   "source": [
    "<h2>Stop Words</h2>"
   ]
  },
  {
   "cell_type": "code",
   "execution_count": 5,
   "id": "21606098-3d5d-4107-b054-6cd4beac73ce",
   "metadata": {},
   "outputs": [
    {
     "name": "stdout",
     "output_type": "stream",
     "text": [
      "{'only', 'your', 'in', \"you've\", 'any', 'these', 'with', 'yourself', 'themselves', 'to', 'about', 'over', 've', 'mustn', 'be', 's', 'just', 'when', \"she's\", 'isn', \"we've\", 'before', 'for', 'have', 'then', 'was', \"they'd\", 'weren', \"mightn't\", 'y', 'more', \"hasn't\", 'under', 'too', 'each', 'both', 'what', \"you're\", 'do', \"it's\", 'couldn', 'doing', 'most', 'were', 'ma', 'but', 'm', 'yours', 'aren', 'once', \"they'll\", 'had', \"they've\", \"it'll\", 'which', 'can', \"isn't\", 'and', \"it'd\", \"they're\", 'very', 'his', 'between', \"i'll\", 'until', 'an', 'here', 'ourselves', 'some', 'haven', 'having', 'or', 'our', 'them', 'don', 'himself', 'why', 'o', \"haven't\", \"that'll\", 'should', \"should've\", 'now', 'while', \"you'll\", 'on', 'she', 'didn', 'during', \"aren't\", \"doesn't\", 'you', 'd', \"didn't\", \"don't\", 'won', 'hadn', 'how', 'if', 'her', 'theirs', 'not', 'above', 'shan', 'who', 'into', 're', \"weren't\", 'own', 'its', 'they', \"shan't\", 'has', 'that', 'been', 'by', 'being', \"he'll\", 'where', 'yourselves', \"he'd\", 'up', 'herself', \"you'd\", 'there', 'whom', \"won't\", 'we', 'so', \"needn't\", 'doesn', 'wouldn', \"we'd\", \"she'll\", \"shouldn't\", \"wouldn't\", 'same', 'wasn', 'nor', 'am', 'no', 'from', \"i'd\", 'mightn', 'of', 'my', 'out', \"i've\", 'i', 'those', 'ain', 'all', 'myself', 'than', 'as', 'this', 'other', 'him', \"i'm\", \"wasn't\", 'll', \"he's\", 'a', 'shouldn', \"we're\", 'are', 'ours', 'their', 'such', 'after', \"we'll\", 'off', 'will', 'he', 'through', 'further', 'did', 'me', 'below', 'does', 'at', 'it', \"mustn't\", 'against', 'again', 'needn', 'the', \"couldn't\", 'down', 'few', 'because', 'hers', \"hadn't\", 't', 'itself', 'hasn', \"she'd\", 'is'}\n"
     ]
    }
   ],
   "source": [
    "from nltk.corpus import stopwords\n",
    "stop_words = set(stopwords.words(\"english\"))\n",
    "print(stop_words)"
   ]
  },
  {
   "cell_type": "markdown",
   "id": "e5b5019c-f02d-4e8d-b7b6-6b4615404784",
   "metadata": {},
   "source": [
    "<h2>Tokenization</h2>"
   ]
  },
  {
   "cell_type": "code",
   "execution_count": 6,
   "id": "477f40d0-3712-4ede-984f-f27d80aabf27",
   "metadata": {},
   "outputs": [
    {
     "name": "stdout",
     "output_type": "stream",
     "text": [
      "['Millions', 'people', 'India', 'took', 'part', 'annual', 'tree', 'planting', 'drive', 'Sunday', '.', 'More', '250', 'million', 'saplings', 'planted', 'single', 'day', 'across', 'country', \"'s\", 'most-populous', 'state', '.', 'The', 'campaign', 'led', 'Uttar', 'Pradesh', 'state', 'government', 'officials', ',', 'lawmakers', ',', 'activists', ',', 'bid', 'reduce', 'carbon', 'emissions', 'combat', 'climate', 'change', '.', 'Where', 'trees', 'planted', '?', 'The', 'saplings', 'planted', 'volunteers', 'forests', ',', 'farms', ',', 'schools', ',', 'along', 'riverbanks', 'highways', '.', '``', 'We', 'committed', 'increasing', 'forest', 'cover', 'Uttar', 'Pradesh', '15', '%', 'total', 'land', 'area', 'next', 'five', 'years', ',', \"''\", 'said', 'state', 'forest', 'official', 'Manoj', 'Singh', '.', 'According', 'another', 'government', 'official', ',', 'forest', 'cover', 'state', 'increased', 'last', 'years', '.', '``', 'There', 'increase', '127', 'sqare', 'kilometers', '[', '79', 'sqare', 'miles', ']', 'forest', 'cover', 'Uttar', 'Pradesh', 'compared', '2017', ',', \"''\", 'state', 'government', 'spokesperson', 'quoted', 'saying', 'The', 'Indian', 'Express', 'newspaper', '.', '``', 'There', 'also', 'increase', 'trees', 'plants', '.', 'The', 'tree', 'cover', 'increased', '3.05', '%', ',', 'compared', 'national', 'average', '2.89', '%', ',', \"''\", 'official', 'said', ',', 'citing', '2019', 'Forest', 'Survey', 'India', 'report', '.', 'How', 'many', 'saplings', 'survive', '?', 'Uttar', 'Pradesh', 'State', 'Forest', 'Minister', 'Dara', 'Singh', 'said', 'long-term', 'survival', 'saplings', 'remains', 'concern', ',', 'adding', 'usually', '60', '%', 'saplings', 'survive', '.', 'The', 'rest', 'succumb', 'disease', 'lack', 'water', '.', 'However', ',', 'said', '80', '%', 'saplings', 'planted', 'last', 'four', 'annual', 'drives', 'survived', '.', '``', 'All', 'regions', 'plantation', 'carried', 'geo-tagged', 'ascertain', 'exactly', 'happened', ',', \"''\", 'Chauhan', 'told', 'The', 'Pioneer', 'newspaper', '.', '``', 'These', 'saplings', 'carry', 'QR', 'codes', 'officials', 'maintain', 'record', 'verify', 'whether', 'saplings', 'survived', '.', 'Besides', ',', 'teams', 'formed', 'monitor', 'progress', 'plantation', 'drive', ',', \"''\", 'said', '.', 'What', 'extent', 'India', \"'s\", 'tree', 'planting', 'project', '?', 'India', 'vowed', 'third', 'total', 'land', 'area', ',', '95', 'million', 'hectares', ',', 'forest', 'tree', 'cover', '2030', '.', 'The', 'government', 'allocated', '$', '6.2', 'billion', '(', '€5.2', 'billion', ')', 'tree-planting', 'across', 'country', '.', 'However', ',', 'industrial', 'development', 'rapidly', 'growing', 'population', 'put', 'stress', 'land', '.']\n"
     ]
    }
   ],
   "source": [
    "word_tokens = [word for word in word_tokens if word not in stop_words]\n",
    "print(word_tokens)"
   ]
  },
  {
   "cell_type": "code",
   "execution_count": 7,
   "id": "d903b8c9-e8fe-4327-aed7-e79d2b670f4f",
   "metadata": {},
   "outputs": [
    {
     "name": "stdout",
     "output_type": "stream",
     "text": [
      "[('Millions', 'NNS'), ('people', 'NNS'), ('India', 'NNP'), ('took', 'VBD'), ('part', 'NN'), ('annual', 'JJ'), ('tree', 'NN'), ('planting', 'VBG'), ('drive', 'JJ'), ('Sunday', 'NNP'), ('.', '.'), ('More', 'JJR'), ('250', 'CD'), ('million', 'CD'), ('saplings', 'NNS'), ('planted', 'VBN'), ('single', 'JJ'), ('day', 'NN'), ('across', 'IN'), ('country', 'NN'), (\"'s\", 'POS'), ('most-populous', 'JJ'), ('state', 'NN'), ('.', '.'), ('The', 'DT'), ('campaign', 'NN'), ('led', 'VBD'), ('Uttar', 'NNP'), ('Pradesh', 'NNP'), ('state', 'NN'), ('government', 'NN'), ('officials', 'NNS'), (',', ','), ('lawmakers', 'NNS'), (',', ','), ('activists', 'NNS'), (',', ','), ('bid', 'NN'), ('reduce', 'VB'), ('carbon', 'NN'), ('emissions', 'NNS'), ('combat', 'VBP'), ('climate', 'JJ'), ('change', 'NN'), ('.', '.'), ('Where', 'WRB'), ('trees', 'NNS'), ('planted', 'VBN'), ('?', '.'), ('The', 'DT'), ('saplings', 'NNS'), ('planted', 'VBD'), ('volunteers', 'NNS'), ('forests', 'NNS'), (',', ','), ('farms', 'NNS'), (',', ','), ('schools', 'NNS'), (',', ','), ('along', 'IN'), ('riverbanks', 'NNS'), ('highways', 'NNS'), ('.', '.'), ('``', '``'), ('We', 'PRP'), ('committed', 'VBD'), ('increasing', 'VBG'), ('forest', 'JJS'), ('cover', 'NN'), ('Uttar', 'NNP'), ('Pradesh', 'NNP'), ('15', 'CD'), ('%', 'NN'), ('total', 'JJ'), ('land', 'NN'), ('area', 'NN'), ('next', 'IN'), ('five', 'CD'), ('years', 'NNS'), (',', ','), (\"''\", \"''\"), ('said', 'VBD'), ('state', 'NN'), ('forest', 'JJS'), ('official', 'NN'), ('Manoj', 'NNP'), ('Singh', 'NNP'), ('.', '.'), ('According', 'VBG'), ('another', 'DT'), ('government', 'NN'), ('official', 'NN'), (',', ','), ('forest', 'JJS'), ('cover', 'NN'), ('state', 'NN'), ('increased', 'VBD'), ('last', 'JJ'), ('years', 'NNS'), ('.', '.'), ('``', '``'), ('There', 'EX'), ('increase', 'VB'), ('127', 'CD'), ('sqare', 'JJ'), ('kilometers', 'NNS'), ('[', 'VBP'), ('79', 'CD'), ('sqare', 'NN'), ('miles', 'NNS'), (']', 'RB'), ('forest', 'VBP'), ('cover', 'NN'), ('Uttar', 'NNP'), ('Pradesh', 'NNP'), ('compared', 'VBN'), ('2017', 'CD'), (',', ','), (\"''\", \"''\"), ('state', 'NN'), ('government', 'NN'), ('spokesperson', 'NN'), ('quoted', 'VBD'), ('saying', 'VBG'), ('The', 'DT'), ('Indian', 'NNP'), ('Express', 'NNP'), ('newspaper', 'NN'), ('.', '.'), ('``', '``'), ('There', 'EX'), ('also', 'RB'), ('increase', 'NN'), ('trees', 'NNS'), ('plants', 'NNS'), ('.', '.'), ('The', 'DT'), ('tree', 'JJ'), ('cover', 'NN'), ('increased', 'VBD'), ('3.05', 'CD'), ('%', 'NN'), (',', ','), ('compared', 'VBN'), ('national', 'JJ'), ('average', 'JJ'), ('2.89', 'CD'), ('%', 'NN'), (',', ','), (\"''\", \"''\"), ('official', 'NN'), ('said', 'VBD'), (',', ','), ('citing', 'VBG'), ('2019', 'CD'), ('Forest', 'NNP'), ('Survey', 'NNP'), ('India', 'NNP'), ('report', 'NN'), ('.', '.'), ('How', 'WRB'), ('many', 'JJ'), ('saplings', 'NNS'), ('survive', 'VBP'), ('?', '.'), ('Uttar', 'NNP'), ('Pradesh', 'NNP'), ('State', 'NNP'), ('Forest', 'NNP'), ('Minister', 'NNP'), ('Dara', 'NNP'), ('Singh', 'NNP'), ('said', 'VBD'), ('long-term', 'JJ'), ('survival', 'JJ'), ('saplings', 'NNS'), ('remains', 'VBZ'), ('concern', 'NN'), (',', ','), ('adding', 'VBG'), ('usually', 'RB'), ('60', 'CD'), ('%', 'NN'), ('saplings', 'NNS'), ('survive', 'VBP'), ('.', '.'), ('The', 'DT'), ('rest', 'NN'), ('succumb', 'NN'), ('disease', 'NN'), ('lack', 'NN'), ('water', 'NN'), ('.', '.'), ('However', 'RB'), (',', ','), ('said', 'VBD'), ('80', 'CD'), ('%', 'NN'), ('saplings', 'NNS'), ('planted', 'VBN'), ('last', 'JJ'), ('four', 'CD'), ('annual', 'JJ'), ('drives', 'NNS'), ('survived', 'VBD'), ('.', '.'), ('``', '``'), ('All', 'DT'), ('regions', 'NNS'), ('plantation', 'VBP'), ('carried', 'VBN'), ('geo-tagged', 'JJ'), ('ascertain', 'NN'), ('exactly', 'RB'), ('happened', 'VBD'), (',', ','), (\"''\", \"''\"), ('Chauhan', 'NNP'), ('told', 'VBD'), ('The', 'DT'), ('Pioneer', 'NNP'), ('newspaper', 'NN'), ('.', '.'), ('``', '``'), ('These', 'DT'), ('saplings', 'NNS'), ('carry', 'VBP'), ('QR', 'NNP'), ('codes', 'NNS'), ('officials', 'NNS'), ('maintain', 'VBP'), ('record', 'NN'), ('verify', 'NN'), ('whether', 'IN'), ('saplings', 'NNS'), ('survived', 'VBN'), ('.', '.'), ('Besides', 'IN'), (',', ','), ('teams', 'NNS'), ('formed', 'VBD'), ('monitor', 'JJ'), ('progress', 'JJ'), ('plantation', 'NN'), ('drive', 'NN'), (',', ','), (\"''\", \"''\"), ('said', 'VBD'), ('.', '.'), ('What', 'WP'), ('extent', 'VBD'), ('India', 'NNP'), (\"'s\", 'POS'), ('tree', 'NN'), ('planting', 'NN'), ('project', 'NN'), ('?', '.'), ('India', 'NNP'), ('vowed', 'VBD'), ('third', 'JJ'), ('total', 'JJ'), ('land', 'NN'), ('area', 'NN'), (',', ','), ('95', 'CD'), ('million', 'CD'), ('hectares', 'NNS'), (',', ','), ('forest', 'JJS'), ('tree', 'NN'), ('cover', 'NN'), ('2030', 'CD'), ('.', '.'), ('The', 'DT'), ('government', 'NN'), ('allocated', 'VBD'), ('$', '$'), ('6.2', 'CD'), ('billion', 'CD'), ('(', '('), ('€5.2', 'NNP'), ('billion', 'CD'), (')', ')'), ('tree-planting', 'NN'), ('across', 'IN'), ('country', 'NN'), ('.', '.'), ('However', 'RB'), (',', ','), ('industrial', 'JJ'), ('development', 'NN'), ('rapidly', 'RB'), ('growing', 'VBG'), ('population', 'NN'), ('put', 'VBD'), ('stress', 'JJ'), ('land', 'NN'), ('.', '.')]\n"
     ]
    }
   ],
   "source": [
    "tagged = nltk.pos_tag(word_tokens)\n",
    "print(tagged)"
   ]
  },
  {
   "cell_type": "code",
   "execution_count": 8,
   "id": "6213f67e-fd96-4b3c-8f77-236a1bf6dafc",
   "metadata": {},
   "outputs": [],
   "source": [
    "from nltk.stem import PorterStemmer, WordNetLemmatizer"
   ]
  },
  {
   "cell_type": "code",
   "execution_count": 9,
   "id": "9705e8e4-8bfb-4f23-80e1-338988b137af",
   "metadata": {},
   "outputs": [
    {
     "name": "stdout",
     "output_type": "stream",
     "text": [
      "['Millions', 'people', 'India', 'took', 'part', 'annual', 'tree', 'planting', 'drive', 'Sunday', '.', 'More', '250', 'million', 'sapling', 'planted', 'single', 'day', 'across', 'country', \"'s\", 'most-populous', 'state', '.', 'The', 'campaign', 'led', 'Uttar', 'Pradesh', 'state', 'government', 'official', ',', 'lawmaker', ',', 'activist', ',', 'bid', 'reduce', 'carbon', 'emission', 'combat', 'climate', 'change', '.', 'Where', 'tree', 'planted', '?', 'The', 'sapling', 'planted', 'volunteer', 'forest', ',', 'farm', ',', 'school', ',', 'along', 'riverbank', 'highway', '.', '``', 'We', 'committed', 'increasing', 'forest', 'cover', 'Uttar', 'Pradesh', '15', '%', 'total', 'land', 'area', 'next', 'five', 'year', ',', \"''\", 'said', 'state', 'forest', 'official', 'Manoj', 'Singh', '.', 'According', 'another', 'government', 'official', ',', 'forest', 'cover', 'state', 'increased', 'last', 'year', '.', '``', 'There', 'increase', '127', 'sqare', 'kilometer', '[', '79', 'sqare', 'mile', ']', 'forest', 'cover', 'Uttar', 'Pradesh', 'compared', '2017', ',', \"''\", 'state', 'government', 'spokesperson', 'quoted', 'saying', 'The', 'Indian', 'Express', 'newspaper', '.', '``', 'There', 'also', 'increase', 'tree', 'plant', '.', 'The', 'tree', 'cover', 'increased', '3.05', '%', ',', 'compared', 'national', 'average', '2.89', '%', ',', \"''\", 'official', 'said', ',', 'citing', '2019', 'Forest', 'Survey', 'India', 'report', '.', 'How', 'many', 'sapling', 'survive', '?', 'Uttar', 'Pradesh', 'State', 'Forest', 'Minister', 'Dara', 'Singh', 'said', 'long-term', 'survival', 'sapling', 'remains', 'concern', ',', 'adding', 'usually', '60', '%', 'sapling', 'survive', '.', 'The', 'rest', 'succumb', 'disease', 'lack', 'water', '.', 'However', ',', 'said', '80', '%', 'sapling', 'planted', 'last', 'four', 'annual', 'drive', 'survived', '.', '``', 'All', 'region', 'plantation', 'carried', 'geo-tagged', 'ascertain', 'exactly', 'happened', ',', \"''\", 'Chauhan', 'told', 'The', 'Pioneer', 'newspaper', '.', '``', 'These', 'sapling', 'carry', 'QR', 'code', 'official', 'maintain', 'record', 'verify', 'whether', 'sapling', 'survived', '.', 'Besides', ',', 'team', 'formed', 'monitor', 'progress', 'plantation', 'drive', ',', \"''\", 'said', '.', 'What', 'extent', 'India', \"'s\", 'tree', 'planting', 'project', '?', 'India', 'vowed', 'third', 'total', 'land', 'area', ',', '95', 'million', 'hectare', ',', 'forest', 'tree', 'cover', '2030', '.', 'The', 'government', 'allocated', '$', '6.2', 'billion', '(', '€5.2', 'billion', ')', 'tree-planting', 'across', 'country', '.', 'However', ',', 'industrial', 'development', 'rapidly', 'growing', 'population', 'put', 'stress', 'land', '.']\n"
     ]
    }
   ],
   "source": [
    "lemmatizer = WordNetLemmatizer()\n",
    "lemmatized_tokens = [lemmatizer.lemmatize(token) for token in word_tokens]\n",
    "print(lemmatized_tokens)"
   ]
  },
  {
   "cell_type": "code",
   "execution_count": 10,
   "id": "536463aa-6986-4eb3-8f22-a0027e2337f5",
   "metadata": {},
   "outputs": [
    {
     "name": "stdout",
     "output_type": "stream",
     "text": [
      "['million', 'peopl', 'india', 'took', 'part', 'annual', 'tree', 'plant', 'drive', 'sunday', '.', 'more', '250', 'million', 'sapl', 'plant', 'singl', 'day', 'across', 'countri', \"'s\", 'most-popul', 'state', '.', 'the', 'campaign', 'led', 'uttar', 'pradesh', 'state', 'govern', 'offici', ',', 'lawmak', ',', 'activist', ',', 'bid', 'reduc', 'carbon', 'emiss', 'combat', 'climat', 'chang', '.', 'where', 'tree', 'plant', '?', 'the', 'sapl', 'plant', 'volunt', 'forest', ',', 'farm', ',', 'school', ',', 'along', 'riverbank', 'highway', '.', '``', 'we', 'commit', 'increas', 'forest', 'cover', 'uttar', 'pradesh', '15', '%', 'total', 'land', 'area', 'next', 'five', 'year', ',', \"''\", 'said', 'state', 'forest', 'offici', 'manoj', 'singh', '.', 'accord', 'anoth', 'govern', 'offici', ',', 'forest', 'cover', 'state', 'increas', 'last', 'year', '.', '``', 'there', 'increas', '127', 'sqare', 'kilomet', '[', '79', 'sqare', 'mile', ']', 'forest', 'cover', 'uttar', 'pradesh', 'compar', '2017', ',', \"''\", 'state', 'govern', 'spokesperson', 'quot', 'say', 'the', 'indian', 'express', 'newspap', '.', '``', 'there', 'also', 'increas', 'tree', 'plant', '.', 'the', 'tree', 'cover', 'increas', '3.05', '%', ',', 'compar', 'nation', 'averag', '2.89', '%', ',', \"''\", 'offici', 'said', ',', 'cite', '2019', 'forest', 'survey', 'india', 'report', '.', 'how', 'mani', 'sapl', 'surviv', '?', 'uttar', 'pradesh', 'state', 'forest', 'minist', 'dara', 'singh', 'said', 'long-term', 'surviv', 'sapl', 'remain', 'concern', ',', 'ad', 'usual', '60', '%', 'sapl', 'surviv', '.', 'the', 'rest', 'succumb', 'diseas', 'lack', 'water', '.', 'howev', ',', 'said', '80', '%', 'sapl', 'plant', 'last', 'four', 'annual', 'drive', 'surviv', '.', '``', 'all', 'region', 'plantat', 'carri', 'geo-tag', 'ascertain', 'exactli', 'happen', ',', \"''\", 'chauhan', 'told', 'the', 'pioneer', 'newspap', '.', '``', 'these', 'sapl', 'carri', 'qr', 'code', 'offici', 'maintain', 'record', 'verifi', 'whether', 'sapl', 'surviv', '.', 'besid', ',', 'team', 'form', 'monitor', 'progress', 'plantat', 'drive', ',', \"''\", 'said', '.', 'what', 'extent', 'india', \"'s\", 'tree', 'plant', 'project', '?', 'india', 'vow', 'third', 'total', 'land', 'area', ',', '95', 'million', 'hectar', ',', 'forest', 'tree', 'cover', '2030', '.', 'the', 'govern', 'alloc', '$', '6.2', 'billion', '(', '€5.2', 'billion', ')', 'tree-plant', 'across', 'countri', '.', 'howev', ',', 'industri', 'develop', 'rapidli', 'grow', 'popul', 'put', 'stress', 'land', '.']\n"
     ]
    }
   ],
   "source": [
    "stemmer = PorterStemmer()\n",
    "stemmed_tokens = [stemmer.stem(token) for token in word_tokens]\n",
    "print(stemmed_tokens)"
   ]
  },
  {
   "cell_type": "markdown",
   "id": "a9993550-6678-47e5-811d-742307254595",
   "metadata": {},
   "source": [
    "<h1>TF-IDF</h1>"
   ]
  },
  {
   "cell_type": "code",
   "execution_count": 11,
   "id": "21bf31fc-b47d-4f8b-a1f9-3cfb215d460a",
   "metadata": {},
   "outputs": [],
   "source": [
    "from sklearn.feature_extraction.text import TfidfVectorizer"
   ]
  },
  {
   "cell_type": "code",
   "execution_count": 12,
   "id": "79460578-9e94-4ca7-9693-275b738c334b",
   "metadata": {},
   "outputs": [],
   "source": [
    "vectorizer = TfidfVectorizer(stop_words = \"english\")\n",
    "document = \" \".join(word_tokens)\n",
    "tfidf_matrix = vectorizer.fit_transform([document])"
   ]
  },
  {
   "cell_type": "code",
   "execution_count": 13,
   "id": "c2e06ad3-3d28-4dc9-a55a-6c07db72c0da",
   "metadata": {},
   "outputs": [
    {
     "name": "stdout",
     "output_type": "stream",
     "text": [
      "['05' '127' '15' '2017' '2019' '2030' '250' '60' '79' '80' '89' '95'\n",
      " 'according' 'activists' 'adding' 'allocated' 'annual' 'area' 'ascertain'\n",
      " 'average' 'bid' 'billion' 'campaign' 'carbon' 'carried' 'carry' 'change'\n",
      " 'chauhan' 'citing' 'climate' 'codes' 'combat' 'committed' 'compared'\n",
      " 'concern' 'country' 'cover' 'dara' 'day' 'development' 'disease' 'drive'\n",
      " 'drives' 'emissions' 'exactly' 'express' 'extent' 'farms' 'forest'\n",
      " 'forests' 'formed' 'geo' 'government' 'growing' 'happened' 'hectares'\n",
      " 'highways' 'increase' 'increased' 'increasing' 'india' 'indian'\n",
      " 'industrial' 'kilometers' 'lack' 'land' 'lawmakers' 'led' 'long'\n",
      " 'maintain' 'manoj' 'miles' 'million' 'millions' 'minister' 'monitor'\n",
      " 'national' 'newspaper' 'official' 'officials' 'people' 'pioneer'\n",
      " 'plantation' 'planted' 'planting' 'plants' 'population' 'populous'\n",
      " 'pradesh' 'progress' 'project' 'qr' 'quoted' 'rapidly' 'record' 'reduce'\n",
      " 'regions' 'remains' 'report' 'rest' 'riverbanks' 'said' 'saplings'\n",
      " 'saying' 'schools' 'singh' 'single' 'spokesperson' 'sqare' 'state'\n",
      " 'stress' 'succumb' 'sunday' 'survey' 'survival' 'survive' 'survived'\n",
      " 'tagged' 'teams' 'term' 'told' 'took' 'total' 'tree' 'trees' 'usually'\n",
      " 'uttar' 'verify' 'volunteers' 'vowed' 'water' 'years']\n"
     ]
    }
   ],
   "source": [
    "terms = vectorizer.get_feature_names_out()\n",
    "print(terms)"
   ]
  },
  {
   "cell_type": "code",
   "execution_count": 14,
   "id": "eef5532a-19d8-4787-a12e-223b544a9b92",
   "metadata": {},
   "outputs": [],
   "source": [
    "tfidf_array = tfidf_matrix.toarray()"
   ]
  },
  {
   "cell_type": "code",
   "execution_count": 15,
   "id": "186d19eb-a368-467a-9b40-47ba6f8366f0",
   "metadata": {},
   "outputs": [
    {
     "name": "stdout",
     "output_type": "stream",
     "text": [
      "TF-IDF Terms\n",
      "05 : 0.0445\n",
      "127 : 0.0445\n",
      "15 : 0.0445\n",
      "2017 : 0.0445\n",
      "2019 : 0.0445\n",
      "2030 : 0.0445\n",
      "250 : 0.0445\n",
      "60 : 0.0445\n",
      "79 : 0.0445\n",
      "80 : 0.0445\n",
      "89 : 0.0445\n",
      "95 : 0.0445\n",
      "according : 0.0445\n",
      "activists : 0.0445\n",
      "adding : 0.0445\n",
      "allocated : 0.0445\n",
      "annual : 0.0889\n",
      "area : 0.0889\n",
      "ascertain : 0.0445\n",
      "average : 0.0445\n",
      "bid : 0.0445\n",
      "billion : 0.0889\n",
      "campaign : 0.0445\n",
      "carbon : 0.0445\n",
      "carried : 0.0445\n",
      "carry : 0.0445\n",
      "change : 0.0445\n",
      "chauhan : 0.0445\n",
      "citing : 0.0445\n",
      "climate : 0.0445\n",
      "codes : 0.0445\n",
      "combat : 0.0445\n",
      "committed : 0.0445\n",
      "compared : 0.0889\n",
      "concern : 0.0445\n",
      "country : 0.0889\n",
      "cover : 0.2223\n",
      "dara : 0.0445\n",
      "day : 0.0445\n",
      "development : 0.0445\n",
      "disease : 0.0445\n",
      "drive : 0.0889\n",
      "drives : 0.0445\n",
      "emissions : 0.0445\n",
      "exactly : 0.0445\n",
      "express : 0.0445\n",
      "extent : 0.0445\n",
      "farms : 0.0445\n",
      "forest : 0.3112\n",
      "forests : 0.0445\n",
      "formed : 0.0445\n",
      "geo : 0.0445\n",
      "government : 0.1778\n",
      "growing : 0.0445\n",
      "happened : 0.0445\n",
      "hectares : 0.0445\n",
      "highways : 0.0445\n",
      "increase : 0.0889\n",
      "increased : 0.0889\n",
      "increasing : 0.0445\n",
      "india : 0.1778\n",
      "indian : 0.0445\n",
      "industrial : 0.0445\n",
      "kilometers : 0.0445\n",
      "lack : 0.0445\n",
      "land : 0.1334\n",
      "lawmakers : 0.0445\n",
      "led : 0.0445\n",
      "long : 0.0445\n",
      "maintain : 0.0445\n",
      "manoj : 0.0445\n",
      "miles : 0.0445\n",
      "million : 0.0889\n",
      "millions : 0.0445\n",
      "minister : 0.0445\n",
      "monitor : 0.0445\n",
      "national : 0.0445\n",
      "newspaper : 0.0889\n",
      "official : 0.1334\n",
      "officials : 0.0889\n",
      "people : 0.0445\n",
      "pioneer : 0.0445\n",
      "plantation : 0.0889\n",
      "planted : 0.1778\n",
      "planting : 0.1334\n",
      "plants : 0.0445\n",
      "population : 0.0445\n",
      "populous : 0.0445\n",
      "pradesh : 0.1778\n",
      "progress : 0.0445\n",
      "project : 0.0445\n",
      "qr : 0.0445\n",
      "quoted : 0.0445\n",
      "rapidly : 0.0445\n",
      "record : 0.0445\n",
      "reduce : 0.0445\n",
      "regions : 0.0445\n",
      "remains : 0.0445\n",
      "report : 0.0445\n",
      "rest : 0.0445\n",
      "riverbanks : 0.0445\n",
      "said : 0.2223\n",
      "saplings : 0.3556\n",
      "saying : 0.0445\n",
      "schools : 0.0445\n",
      "singh : 0.0889\n",
      "single : 0.0445\n",
      "spokesperson : 0.0445\n",
      "sqare : 0.0889\n",
      "state : 0.2667\n",
      "stress : 0.0445\n",
      "succumb : 0.0445\n",
      "sunday : 0.0445\n",
      "survey : 0.0445\n",
      "survival : 0.0445\n",
      "survive : 0.0889\n",
      "survived : 0.0889\n",
      "tagged : 0.0445\n",
      "teams : 0.0445\n",
      "term : 0.0445\n",
      "told : 0.0445\n",
      "took : 0.0445\n",
      "total : 0.0889\n",
      "tree : 0.2223\n",
      "trees : 0.0889\n",
      "usually : 0.0445\n",
      "uttar : 0.1778\n",
      "verify : 0.0445\n",
      "volunteers : 0.0445\n",
      "vowed : 0.0445\n",
      "water : 0.0445\n",
      "years : 0.0889\n"
     ]
    }
   ],
   "source": [
    "print(\"TF-IDF Terms\")\n",
    "for term_idx, value in enumerate(tfidf_array[0]):\n",
    "    print(f\"{terms[term_idx]} : {value:.4f}\")"
   ]
  },
  {
   "cell_type": "code",
   "execution_count": null,
   "id": "682d1901-095d-498e-b19d-a764b7ee81ad",
   "metadata": {},
   "outputs": [],
   "source": []
  }
 ],
 "metadata": {
  "kernelspec": {
   "display_name": "Python 3 (ipykernel)",
   "language": "python",
   "name": "python3"
  },
  "language_info": {
   "codemirror_mode": {
    "name": "ipython",
    "version": 3
   },
   "file_extension": ".py",
   "mimetype": "text/x-python",
   "name": "python",
   "nbconvert_exporter": "python",
   "pygments_lexer": "ipython3",
   "version": "3.9.6"
  }
 },
 "nbformat": 4,
 "nbformat_minor": 5
}
